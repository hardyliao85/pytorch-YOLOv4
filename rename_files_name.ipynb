{
 "cells": [
  {
   "cell_type": "code",
   "execution_count": 1,
   "metadata": {
    "ExecuteTime": {
     "end_time": "2020-05-28T07:33:51.425110Z",
     "start_time": "2020-05-28T07:33:51.412145Z"
    }
   },
   "outputs": [],
   "source": [
    "import numpy as np\n",
    "import os\n",
    "import cv2"
   ]
  },
  {
   "cell_type": "markdown",
   "metadata": {},
   "source": [
    "# rename"
   ]
  },
  {
   "cell_type": "code",
   "execution_count": 17,
   "metadata": {
    "ExecuteTime": {
     "end_time": "2020-05-28T07:43:12.703688Z",
     "start_time": "2020-05-28T07:43:12.695693Z"
    }
   },
   "outputs": [],
   "source": [
    "dir_path = './img/'\n",
    "dia = os.listdir(dir_path)\n",
    "\n",
    "for i,file in enumerate(dia):\n",
    "    path = dir_path + file\n",
    "    # print(path)\n",
    "    if(0<=i<10):\n",
    "        os.rename(path, os.path.join(dir_path,'00'+str(i)+'.jpg'))\n",
    "    elif(9<i<100):\n",
    "        os.rename(path, os.path.join(dir_path,'0'+str(i)+'.jpg'))\n",
    "    else:\n",
    "        os.rename(path, os.path.join(dir_path,str(i)+'.jpg'))"
   ]
  },
  {
   "cell_type": "markdown",
   "metadata": {},
   "source": [
    "# change path"
   ]
  },
  {
   "cell_type": "code",
   "execution_count": 58,
   "metadata": {
    "ExecuteTime": {
     "end_time": "2020-04-25T08:17:50.056891Z",
     "start_time": "2020-04-25T08:17:44.851933Z"
    }
   },
   "outputs": [],
   "source": [
    "dir_path = './data_ver2/data_pick/'\n",
    "dia = os.listdir(dir_path)\n",
    "\n",
    "for i in range(len(dia)):\n",
    "    path = dir_path + dia[i]+'/'\n",
    "    files = os.listdir(path)\n",
    "    for j in range(len(files)):\n",
    "        path_file = path+files[j]\n",
    "        img = cv2.imread(path_file)\n",
    "        file_name = files[j]\n",
    "        save_path='./data_ver2/'+file_name\n",
    "        cv2.imwrite(save_path, img)\n",
    "        "
   ]
  },
  {
   "cell_type": "code",
   "execution_count": null,
   "metadata": {},
   "outputs": [],
   "source": []
  }
 ],
 "metadata": {
  "kernelspec": {
   "display_name": "Python 3",
   "language": "python",
   "name": "python3"
  },
  "language_info": {
   "codemirror_mode": {
    "name": "ipython",
    "version": 3
   },
   "file_extension": ".py",
   "mimetype": "text/x-python",
   "name": "python",
   "nbconvert_exporter": "python",
   "pygments_lexer": "ipython3",
   "version": "3.7.4"
  },
  "toc": {
   "base_numbering": 1,
   "nav_menu": {},
   "number_sections": true,
   "sideBar": true,
   "skip_h1_title": false,
   "title_cell": "Table of Contents",
   "title_sidebar": "Contents",
   "toc_cell": false,
   "toc_position": {},
   "toc_section_display": true,
   "toc_window_display": false
  },
  "varInspector": {
   "cols": {
    "lenName": 16,
    "lenType": 16,
    "lenVar": 40
   },
   "kernels_config": {
    "python": {
     "delete_cmd_postfix": "",
     "delete_cmd_prefix": "del ",
     "library": "var_list.py",
     "varRefreshCmd": "print(var_dic_list())"
    },
    "r": {
     "delete_cmd_postfix": ") ",
     "delete_cmd_prefix": "rm(",
     "library": "var_list.r",
     "varRefreshCmd": "cat(var_dic_list()) "
    }
   },
   "types_to_exclude": [
    "module",
    "function",
    "builtin_function_or_method",
    "instance",
    "_Feature"
   ],
   "window_display": false
  }
 },
 "nbformat": 4,
 "nbformat_minor": 4
}
