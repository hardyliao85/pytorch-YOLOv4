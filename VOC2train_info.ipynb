{
 "cells": [
  {
   "cell_type": "code",
   "execution_count": 14,
   "metadata": {
    "ExecuteTime": {
     "end_time": "2020-05-26T07:08:48.496500Z",
     "start_time": "2020-05-26T07:08:48.482773Z"
    }
   },
   "outputs": [],
   "source": [
    "import numpy as np\n",
    "import xml.etree.ElementTree as ET\n",
    "import os,csv"
   ]
  },
  {
   "cell_type": "code",
   "execution_count": 15,
   "metadata": {
    "ExecuteTime": {
     "end_time": "2020-05-26T07:08:48.655032Z",
     "start_time": "2020-05-26T07:08:48.646965Z"
    }
   },
   "outputs": [
    {
     "name": "stdout",
     "output_type": "stream",
     "text": [
      "['dog.xml', 'giraffe.xml']\n"
     ]
    }
   ],
   "source": [
    "path = './label/'\n",
    "files = os.listdir(path)\n",
    "print(files)\n",
    "\n",
    "tree = ET.parse(path+files[0])\n",
    "root = tree.getroot()"
   ]
  },
  {
   "cell_type": "code",
   "execution_count": 16,
   "metadata": {
    "ExecuteTime": {
     "end_time": "2020-05-26T07:08:48.852720Z",
     "start_time": "2020-05-26T07:08:48.836958Z"
    }
   },
   "outputs": [
    {
     "name": "stdout",
     "output_type": "stream",
     "text": [
      "dog.xml 466,70,686,169,0,115,135,559,422,1,128,222,311,547,2\n",
      "giraffe.xml 171,28,448,442,3,250,203,423,447,4\n"
     ]
    }
   ],
   "source": [
    "train_info = []\n",
    "for file in files:\n",
    "    tree = ET.parse(path+file)\n",
    "    root = tree.getroot()\n",
    "    box_info = ' '\n",
    "    for child in root:\n",
    "        # choose object\n",
    "        if(child.tag=='object'):\n",
    "            for obj in child:\n",
    "\n",
    "                if(obj.tag=='name'):\n",
    "                    # costum id\n",
    "                    name_id = obj.text\n",
    "                    if(name_id=='car'):\n",
    "                        name_id=0\n",
    "                    elif(name_id=='bi'):\n",
    "                        name_id=1\n",
    "                    elif(name_id=='do'):\n",
    "                        name_id=2\n",
    "                    elif(name_id=='kang'):\n",
    "                        name_id=3\n",
    "                    elif(name_id=='zebra'):\n",
    "                        name_id=4\n",
    "\n",
    "                if(obj.tag=='bndbox'):\n",
    "                    box_info = box_info + \"%s,%s,%s,%s,%s,\" %(obj[0].text, obj[1].text, obj[2].text, obj[3].text, name_id)\n",
    "    train_info.append(file+box_info[:-1])\n",
    "for d in train_info:\n",
    "    print(d)"
   ]
  },
  {
   "cell_type": "code",
   "execution_count": 17,
   "metadata": {
    "ExecuteTime": {
     "end_time": "2020-05-26T07:08:50.353017Z",
     "start_time": "2020-05-26T07:08:50.344645Z"
    }
   },
   "outputs": [],
   "source": [
    "with open('./label_output.txt', 'w', newline='') as f:\n",
    "        for d in train_info:\n",
    "            f.write(d)\n",
    "            f.write('\\n')"
   ]
  },
  {
   "cell_type": "code",
   "execution_count": null,
   "metadata": {},
   "outputs": [],
   "source": []
  }
 ],
 "metadata": {
  "kernelspec": {
   "display_name": "Python 3",
   "language": "python",
   "name": "python3"
  },
  "language_info": {
   "codemirror_mode": {
    "name": "ipython",
    "version": 3
   },
   "file_extension": ".py",
   "mimetype": "text/x-python",
   "name": "python",
   "nbconvert_exporter": "python",
   "pygments_lexer": "ipython3",
   "version": "3.7.5"
  },
  "toc": {
   "base_numbering": 1,
   "nav_menu": {},
   "number_sections": true,
   "sideBar": true,
   "skip_h1_title": false,
   "title_cell": "Table of Contents",
   "title_sidebar": "Contents",
   "toc_cell": false,
   "toc_position": {},
   "toc_section_display": true,
   "toc_window_display": false
  },
  "varInspector": {
   "cols": {
    "lenName": 16,
    "lenType": 16,
    "lenVar": 40
   },
   "kernels_config": {
    "python": {
     "delete_cmd_postfix": "",
     "delete_cmd_prefix": "del ",
     "library": "var_list.py",
     "varRefreshCmd": "print(var_dic_list())"
    },
    "r": {
     "delete_cmd_postfix": ") ",
     "delete_cmd_prefix": "rm(",
     "library": "var_list.r",
     "varRefreshCmd": "cat(var_dic_list()) "
    }
   },
   "types_to_exclude": [
    "module",
    "function",
    "builtin_function_or_method",
    "instance",
    "_Feature"
   ],
   "window_display": false
  }
 },
 "nbformat": 4,
 "nbformat_minor": 2
}
